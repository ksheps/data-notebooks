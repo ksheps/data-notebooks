{
 "cells": [
  {
   "cell_type": "code",
   "execution_count": 1,
   "metadata": {
    "collapsed": true
   },
   "outputs": [],
   "source": [
    "import agate"
   ]
  },
  {
   "cell_type": "code",
   "execution_count": 5,
   "metadata": {
    "collapsed": false,
    "scrolled": true
   },
   "outputs": [],
   "source": [
    "big10 = agate.Table.from_csv('../data/colleges.csv')\n"
   ]
  },
  {
   "cell_type": "code",
   "execution_count": 6,
   "metadata": {
    "collapsed": false
   },
   "outputs": [
    {
     "name": "stdout",
     "output_type": "stream",
     "text": [
      "|-----------------------------------------------------------------------------+---------------|\n",
      "|  column_names                                                               | column_types  |\n",
      "|-----------------------------------------------------------------------------+---------------|\n",
      "|  UnitID                                                                     | Number        |\n",
      "|  Institution Name                                                           | Text          |\n",
      "|  Total price for in-state students living on campus 2012-13 (DRVIC2012)     | Number        |\n",
      "|  Total price for out-of-state students living on campus 2012-13 (DRVIC2012) | Number        |\n",
      "|  Graduation rate  total cohort (DRVGR2012)                                  | Number        |\n",
      "|-----------------------------------------------------------------------------+---------------|\n",
      "\n"
     ]
    }
   ],
   "source": [
    "print(big10)"
   ]
  },
  {
   "cell_type": "code",
   "execution_count": 7,
   "metadata": {
    "collapsed": false
   },
   "outputs": [
    {
     "name": "stdout",
     "output_type": "stream",
     "text": [
      "|----------+----------------------+------------------------------------------------------------------------+----------------------------------------------------------------------------+--------------------------------------------|\n",
      "|   UnitID | Institution Name     | Total price for in-state students living on campus 2012-13 (DRVIC2012) | Total price for out-of-state students living on campus 2012-13 (DRVIC2012) | Graduation rate  total cohort (DRVGR2012)  |\n",
      "|----------+----------------------+------------------------------------------------------------------------+----------------------------------------------------------------------------+--------------------------------------------|\n",
      "|  151,351 | Indiana Universit... |                                                                 23,116 |                                                                     44,566 |                                        75  |\n",
      "|  171,100 | Michigan State Un... |                                                                 24,028 |                                                                     43,986 |                                        79  |\n",
      "|  147,767 | Northwestern Univ... |                                                                 60,840 |                                                                     60,840 |                                        93  |\n",
      "|  204,796 | Ohio State Univer... |                                                                 24,919 |                                                                     40,327 |                                        82  |\n",
      "|  214,777 | Pennsylvania Stat... |                                                                 31,854 |                                                                     44,156 |                                        86  |\n",
      "|  243,780 | Purdue University... |                                                                 23,468 |                                                                     42,270 |                                        69  |\n",
      "|  186,380 | Rutgers Universit... |                                                                 28,798 |                                                                     42,118 |                                        79  |\n",
      "|  145,637 | University of Ill... |                                                                 28,564 |                                                                     42,706 |                                        84  |\n",
      "|  153,658 | University of Iowa   |                                                                 21,832 |                                                                     40,054 |                                        70  |\n",
      "|  163,286 | University of Mar... |                                                                 23,346 |                                                                     41,725 |                                        82  |\n",
      "|  170,976 | University of Mic... |                                                                 25,848 |                                                                     51,976 |                                        91  |\n",
      "|  174,066 | University of Min... |                                                                 25,065 |                                                                     30,315 |                                        73  |\n",
      "|  181,464 | University of Neb... |                                                                 21,700 |                                                                     34,450 |                                        65  |\n",
      "|  240,444 | University of Wis... |                                                                 23,762 |                                                                     40,012 |                                        82  |\n",
      "|----------+----------------------+------------------------------------------------------------------------+----------------------------------------------------------------------------+--------------------------------------------|\n"
     ]
    }
   ],
   "source": [
    "big10.print_table()"
   ]
  },
  {
   "cell_type": "code",
   "execution_count": 9,
   "metadata": {
    "collapsed": false
   },
   "outputs": [
    {
     "name": "stdout",
     "output_type": "stream",
     "text": [
      "|----------+----------------------+------------------------------------------------------------------------+----------------------------------------------------------------------------+--------------------------------------------|\n",
      "|   UnitID | Institution Name     | Total price for in-state students living on campus 2012-13 (DRVIC2012) | Total price for out-of-state students living on campus 2012-13 (DRVIC2012) | Graduation rate  total cohort (DRVGR2012)  |\n",
      "|----------+----------------------+------------------------------------------------------------------------+----------------------------------------------------------------------------+--------------------------------------------|\n",
      "|  147,767 | Northwestern Univ... |                                                                 60,840 |                                                                     60,840 |                                        93  |\n",
      "|  170,976 | University of Mic... |                                                                 25,848 |                                                                     51,976 |                                        91  |\n",
      "|  214,777 | Pennsylvania Stat... |                                                                 31,854 |                                                                     44,156 |                                        86  |\n",
      "|  145,637 | University of Ill... |                                                                 28,564 |                                                                     42,706 |                                        84  |\n",
      "|  204,796 | Ohio State Univer... |                                                                 24,919 |                                                                     40,327 |                                        82  |\n",
      "|  163,286 | University of Mar... |                                                                 23,346 |                                                                     41,725 |                                        82  |\n",
      "|  240,444 | University of Wis... |                                                                 23,762 |                                                                     40,012 |                                        82  |\n",
      "|  171,100 | Michigan State Un... |                                                                 24,028 |                                                                     43,986 |                                        79  |\n",
      "|  186,380 | Rutgers Universit... |                                                                 28,798 |                                                                     42,118 |                                        79  |\n",
      "|  151,351 | Indiana Universit... |                                                                 23,116 |                                                                     44,566 |                                        75  |\n",
      "|  174,066 | University of Min... |                                                                 25,065 |                                                                     30,315 |                                        73  |\n",
      "|  153,658 | University of Iowa   |                                                                 21,832 |                                                                     40,054 |                                        70  |\n",
      "|  243,780 | Purdue University... |                                                                 23,468 |                                                                     42,270 |                                        69  |\n",
      "|  181,464 | University of Neb... |                                                                 21,700 |                                                                     34,450 |                                        65  |\n",
      "|----------+----------------------+------------------------------------------------------------------------+----------------------------------------------------------------------------+--------------------------------------------|\n"
     ]
    }
   ],
   "source": [
    "big10.order_by('Graduation rate  total cohort (DRVGR2012)', reverse=True).print_table()"
   ]
  },
  {
   "cell_type": "code",
   "execution_count": 10,
   "metadata": {
    "collapsed": false
   },
   "outputs": [
    {
     "name": "stdout",
     "output_type": "stream",
     "text": [
      "Institution Name                           Graduation rate  total cohort (DRVGR2012)\n",
      "Northwestern University                                                           93 ▓░░░░░░░░░░░░░░░░░░░░░░░░░░░  \n",
      "University of Michigan-Ann Arbor                                                  91 ▓░░░░░░░░░░░░░░░░░░░░░░░░░░   \n",
      "Pennsylvania State University-Main Campus                                         86 ▓░░░░░░░░░░░░░░░░░░░░░░░░░    \n",
      "University of Illinois at Urbana-Champaign                                        84 ▓░░░░░░░░░░░░░░░░░░░░░░░░     \n",
      "Ohio State University-Main Campus                                                 82 ▓░░░░░░░░░░░░░░░░░░░░░░░░     \n",
      "University of Maryland-College Park                                               82 ▓░░░░░░░░░░░░░░░░░░░░░░░░     \n",
      "University of Wisconsin-Madison                                                   82 ▓░░░░░░░░░░░░░░░░░░░░░░░░     \n",
      "Michigan State University                                                         79 ▓░░░░░░░░░░░░░░░░░░░░░░░      \n",
      "Rutgers University-New Brunswick                                                  79 ▓░░░░░░░░░░░░░░░░░░░░░░░      \n",
      "Indiana University-Bloomington                                                    75 ▓░░░░░░░░░░░░░░░░░░░░░░       \n",
      "University of Minnesota-Twin Cities                                               73 ▓░░░░░░░░░░░░░░░░░░░░░        \n",
      "University of Iowa                                                                70 ▓░░░░░░░░░░░░░░░░░░░░         \n",
      "Purdue University-Main Campus                                                     69 ▓░░░░░░░░░░░░░░░░░░░░         \n",
      "University of Nebraska-Lincoln                                                    65 ▓░░░░░░░░░░░░░░░░░░░          \n",
      "                                                                                     +------+------+-------+------+\n",
      "                                                                                     0     25     50      75    100\n"
     ]
    }
   ],
   "source": [
    "big10.order_by('Graduation rate  total cohort (DRVGR2012)', reverse=True).print_bars('Institution Name', 'Graduation rate  total cohort (DRVGR2012)', width=115)"
   ]
  },
  {
   "cell_type": "code",
   "execution_count": 11,
   "metadata": {
    "collapsed": true
   },
   "outputs": [],
   "source": [
    "average_tuition = big10.aggregate(agate.Mean('Total price for in-state students living on campus 2012-13 (DRVIC2012)'))"
   ]
  },
  {
   "cell_type": "code",
   "execution_count": 12,
   "metadata": {
    "collapsed": false
   },
   "outputs": [
    {
     "name": "stdout",
     "output_type": "stream",
     "text": [
      "27652.85714285714285714285714\n"
     ]
    }
   ],
   "source": [
    "print(average_tuition)"
   ]
  },
  {
   "cell_type": "code",
   "execution_count": 14,
   "metadata": {
    "collapsed": false
   },
   "outputs": [],
   "source": [
    "median_tuition = big10.aggregate(agate.Median('Total price for in-state students living on campus 2012-13 (DRVIC2012)'))"
   ]
  },
  {
   "cell_type": "code",
   "execution_count": 15,
   "metadata": {
    "collapsed": false
   },
   "outputs": [
    {
     "name": "stdout",
     "output_type": "stream",
     "text": [
      "24473.5\n"
     ]
    }
   ],
   "source": [
    "print(median_tuition)"
   ]
  },
  {
   "cell_type": "code",
   "execution_count": null,
   "metadata": {
    "collapsed": true
   },
   "outputs": [],
   "source": []
  }
 ],
 "metadata": {
  "kernelspec": {
   "display_name": "Python 2",
   "language": "python",
   "name": "python2"
  },
  "language_info": {
   "codemirror_mode": {
    "name": "ipython",
    "version": 2
   },
   "file_extension": ".py",
   "mimetype": "text/x-python",
   "name": "python",
   "nbconvert_exporter": "python",
   "pygments_lexer": "ipython2",
   "version": "2.7.10"
  }
 },
 "nbformat": 4,
 "nbformat_minor": 0
}
