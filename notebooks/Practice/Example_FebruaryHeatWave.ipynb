{
 "cells": [
  {
   "cell_type": "code",
   "execution_count": 1,
   "metadata": {
    "collapsed": true
   },
   "outputs": [],
   "source": [
    "import agate\n",
    "\n",
    "tester = agate.TypeTester(limit=100)\n",
    "fiftyyears = agate.Table.from_csv('../data/temp1.csv', column_types=tester)"
   ]
  },
  {
   "cell_type": "code",
   "execution_count": 2,
   "metadata": {
    "collapsed": false
   },
   "outputs": [
    {
     "name": "stdout",
     "output_type": "stream",
     "text": [
      "|---------------+---------------|\n",
      "|  column_names | column_types  |\n",
      "|---------------+---------------|\n",
      "|  STATION      | Text          |\n",
      "|  STATION_NAME | Text          |\n",
      "|  ELEVATION    | Number        |\n",
      "|  LATITUDE     | Number        |\n",
      "|  LONGITUDE    | Number        |\n",
      "|  Date         | Date          |\n",
      "|  TMAX         | Number        |\n",
      "|  TMIN         | Number        |\n",
      "|---------------+---------------|\n",
      "\n"
     ]
    }
   ],
   "source": [
    "print (fiftyyears)"
   ]
  },
  {
   "cell_type": "code",
   "execution_count": 5,
   "metadata": {
    "collapsed": true
   },
   "outputs": [],
   "source": [
    "from decimal import Decimal\n",
    "\n",
    "def make_high_f(row): \n",
    "    return ((row['TMAX']/10)*Decimal(1.8)+32).quantize(Decimal('0.1'))\n",
    "\n",
    "def make_low_f(row): \n",
    "    return ((row['TMIN']/10)*Decimal(1.8)+32).quantize(Decimal('0.1'))\n",
    "            \n",
    "converted_temps = fiftyyears.compute([\n",
    "        ('tmax_f', agate.Formula(agate.Number(), make_high_f)),\n",
    "        ('tmin_f', agate.Formula(agate.Number(), make_low_f))\n",
    "    ])\n"
   ]
  },
  {
   "cell_type": "code",
   "execution_count": 6,
   "metadata": {
    "collapsed": false
   },
   "outputs": [
    {
     "name": "stdout",
     "output_type": "stream",
     "text": [
      "|---------------+---------------|\n",
      "|  column_names | column_types  |\n",
      "|---------------+---------------|\n",
      "|  STATION      | Text          |\n",
      "|  STATION_NAME | Text          |\n",
      "|  ELEVATION    | Number        |\n",
      "|  LATITUDE     | Number        |\n",
      "|  LONGITUDE    | Number        |\n",
      "|  Date         | Date          |\n",
      "|  TMAX         | Number        |\n",
      "|  TMIN         | Number        |\n",
      "|  tmax_f       | Number        |\n",
      "|  tmin_f       | Number        |\n",
      "|---------------+---------------|\n",
      "\n"
     ]
    }
   ],
   "source": [
    "print(converted_temps)"
   ]
  },
  {
   "cell_type": "code",
   "execution_count": 7,
   "metadata": {
    "collapsed": true
   },
   "outputs": [],
   "source": [
    "temps_with_months = converted_temps.compute([\n",
    "        ('month', agate.Formula(agate.Text(), lambda row: '%s' % row['Date'].month))\n",
    "    ])"
   ]
  },
  {
   "cell_type": "code",
   "execution_count": 9,
   "metadata": {
    "collapsed": false
   },
   "outputs": [
    {
     "name": "stdout",
     "output_type": "stream",
     "text": [
      "|---------------+---------------|\n",
      "|  column_names | column_types  |\n",
      "|---------------+---------------|\n",
      "|  STATION      | Text          |\n",
      "|  STATION_NAME | Text          |\n",
      "|  ELEVATION    | Number        |\n",
      "|  LATITUDE     | Number        |\n",
      "|  LONGITUDE    | Number        |\n",
      "|  Date         | Date          |\n",
      "|  TMAX         | Number        |\n",
      "|  TMIN         | Number        |\n",
      "|  tmax_f       | Number        |\n",
      "|  tmin_f       | Number        |\n",
      "|  month        | Text          |\n",
      "|---------------+---------------|\n",
      "\n",
      "43551\n"
     ]
    }
   ],
   "source": [
    "print(temps_with_months)\n",
    "print(len(temps_with_months.rows))"
   ]
  },
  {
   "cell_type": "code",
   "execution_count": 10,
   "metadata": {
    "collapsed": false
   },
   "outputs": [
    {
     "name": "stdout",
     "output_type": "stream",
     "text": [
      "15872\n"
     ]
    }
   ],
   "source": [
    "airport = temps_with_months.where(lambda row: row['STATION'] == 'GHCND:USW00014939')\n",
    "print(len(airport.rows))"
   ]
  },
  {
   "cell_type": "code",
   "execution_count": 11,
   "metadata": {
    "collapsed": false
   },
   "outputs": [
    {
     "name": "stdout",
     "output_type": "stream",
     "text": [
      "1228\n"
     ]
    }
   ],
   "source": [
    "airport_feb = airport.where(lambda row: row['month'] == '2')\n",
    "print(len(airport_feb.rows))"
   ]
  },
  {
   "cell_type": "code",
   "execution_count": 12,
   "metadata": {
    "collapsed": false
   },
   "outputs": [
    {
     "name": "stdout",
     "output_type": "stream",
     "text": [
      "88\n"
     ]
    }
   ],
   "source": [
    "warm_feb_days = airport_feb.where(lambda row: 60 <= row['tmax_f'] < 70)\n",
    "print(len(warm_feb_days.rows))"
   ]
  },
  {
   "cell_type": "code",
   "execution_count": 16,
   "metadata": {
    "collapsed": false
   },
   "outputs": [
    {
     "name": "stdout",
     "output_type": "stream",
     "text": [
      "tmax_f    Count\n",
      "[-10 - 0)     3 ▓                                 \n",
      "[0 - 10)     22 ▓░░                               \n",
      "[10 - 20)   103 ▓░░░░░░░░                         \n",
      "[20 - 30)   203 ▓░░░░░░░░░░░░░░░░░                \n",
      "[30 - 40)   355 ▓░░░░░░░░░░░░░░░░░░░░░░░░░░░░░    \n",
      "[40 - 50)   233 ▓░░░░░░░░░░░░░░░░░░░              \n",
      "[50 - 60)   199 ▓░░░░░░░░░░░░░░░░                 \n",
      "[60 - 70)    88 ▓░░░░░░░                          \n",
      "[70 - 80)    22 ▓░░                               \n",
      "                +-------+-------+--------+-------+\n",
      "                0      100     200      300    400\n"
     ]
    }
   ],
   "source": [
    "binned_temps = airport_feb.bins('tmax_f', 11, -20, 90)\n",
    "binned_temps.print_bars('tmax_f', 'Count', width=50)"
   ]
  },
  {
   "cell_type": "code",
   "execution_count": 17,
   "metadata": {
    "collapsed": true
   },
   "outputs": [],
   "source": [
    "warm_feb_days_with_years = warm_feb_days.compute([\n",
    "        ('year', agate.Formula(agate.Text(), lambda row: '%s' % row['Date'].year))\n",
    "    ])"
   ]
  },
  {
   "cell_type": "code",
   "execution_count": 18,
   "metadata": {
    "collapsed": true
   },
   "outputs": [],
   "source": [
    "by_year = warm_feb_days_with_years.group_by('year')"
   ]
  },
  {
   "cell_type": "code",
   "execution_count": 22,
   "metadata": {
    "collapsed": false
   },
   "outputs": [],
   "source": [
    "by_year_count = by_year.aggregate([\n",
    "        ('count', agate.Count())\n",
    "    ])"
   ]
  },
  {
   "cell_type": "code",
   "execution_count": 23,
   "metadata": {
    "collapsed": false
   },
   "outputs": [
    {
     "name": "stdout",
     "output_type": "stream",
     "text": [
      "year count\n",
      "1974     2 ▓░░░░░░░░░░                            \n",
      "1976     6 ▓░░░░░░░░░░░░░░░░░░░░░░░░░░░░          \n",
      "1977     8 ▓░░░░░░░░░░░░░░░░░░░░░░░░░░░░░░░░░░░░░░\n",
      "1981     6 ▓░░░░░░░░░░░░░░░░░░░░░░░░░░░░          \n",
      "1982     2 ▓░░░░░░░░░░                            \n",
      "1983     1 ▓░░░░░                                 \n",
      "1984     3 ▓░░░░░░░░░░░░░░                        \n",
      "1986     2 ▓░░░░░░░░░░                            \n",
      "1987     4 ▓░░░░░░░░░░░░░░░░░░░                   \n",
      "1988     1 ▓░░░░░                                 \n",
      "1990     3 ▓░░░░░░░░░░░░░░                        \n",
      "1991     3 ▓░░░░░░░░░░░░░░                        \n",
      "1992     5 ▓░░░░░░░░░░░░░░░░░░░░░░░░              \n",
      "1994     2 ▓░░░░░░░░░░                            \n",
      "1995     3 ▓░░░░░░░░░░░░░░                        \n",
      "1996     3 ▓░░░░░░░░░░░░░░                        \n",
      "1997     2 ▓░░░░░░░░░░                            \n",
      "1998     1 ▓░░░░░                                 \n",
      "1999     4 ▓░░░░░░░░░░░░░░░░░░░                   \n",
      "2000     7 ▓░░░░░░░░░░░░░░░░░░░░░░░░░░░░░░░░░     \n",
      "2005     6 ▓░░░░░░░░░░░░░░░░░░░░░░░░░░░░          \n",
      "2006     3 ▓░░░░░░░░░░░░░░                        \n",
      "2007     1 ▓░░░░░                                 \n",
      "2009     5 ▓░░░░░░░░░░░░░░░░░░░░░░░░              \n",
      "2011     2 ▓░░░░░░░░░░                            \n",
      "2012     1 ▓░░░░░                                 \n",
      "2013     1 ▓░░░░░                                 \n",
      "2014     1 ▓░░░░░                                 \n",
      "           +---------+--------+--------+---------+\n",
      "           0         2        4        6         8\n"
     ]
    }
   ],
   "source": [
    "by_year_count.print_bars('year', 'count', width=50)"
   ]
  },
  {
   "cell_type": "code",
   "execution_count": 24,
   "metadata": {
    "collapsed": true
   },
   "outputs": [],
   "source": [
    "average_february = airport_feb.compute([\n",
    "        ('year', agate.Formula(agate.Text(), lambda row: '%s' % row['Date'].year))\n",
    "    ])"
   ]
  },
  {
   "cell_type": "code",
   "execution_count": 31,
   "metadata": {
    "collapsed": true
   },
   "outputs": [],
   "source": [
    "average_feb_by_year = average_february.group_by('year')"
   ]
  },
  {
   "cell_type": "code",
   "execution_count": 32,
   "metadata": {
    "collapsed": false
   },
   "outputs": [],
   "source": [
    "average_feb_by_year = average_feb_by_year.aggregate([\n",
    "        ('average', agate.Mean('tmax_f'))\n",
    "    ])"
   ]
  },
  {
   "cell_type": "code",
   "execution_count": 33,
   "metadata": {
    "collapsed": false
   },
   "outputs": [
    {
     "name": "stdout",
     "output_type": "stream",
     "text": [
      "year                       average\n",
      "1973 36.80000000000000000000000000 ▓░░░░░░░░░░░░░░░░░░░░░░░░░░░                 \n",
      "1974 41.85357142857142857142857143 ▓░░░░░░░░░░░░░░░░░░░░░░░░░░░░░░░             \n",
      "1975 28.27857142857142857142857143 ▓░░░░░░░░░░░░░░░░░░░░░                       \n",
      "1976 50.33793103448275862068965517 ▓░░░░░░░░░░░░░░░░░░░░░░░░░░░░░░░░░░░░░       \n",
      "1977 47.46785714285714285714285714 ▓░░░░░░░░░░░░░░░░░░░░░░░░░░░░░░░░░░░         \n",
      "1978 22.75000000000000000000000000 ▓░░░░░░░░░░░░░░░░░                           \n",
      "1979 23.27857142857142857142857143 ▓░░░░░░░░░░░░░░░░░                           \n",
      "1980 30.73448275862068965517241379 ▓░░░░░░░░░░░░░░░░░░░░░░░                     \n",
      "1981 45.22500000000000000000000000 ▓░░░░░░░░░░░░░░░░░░░░░░░░░░░░░░░░░           \n",
      "1982 33.10000000000000000000000000 ▓░░░░░░░░░░░░░░░░░░░░░░░░                    \n",
      "1983 39.96071428571428571428571429 ▓░░░░░░░░░░░░░░░░░░░░░░░░░░░░░               \n",
      "1984 46.35517241379310344827586207 ▓░░░░░░░░░░░░░░░░░░░░░░░░░░░░░░░░░░          \n",
      "1985 33.38214285714285714285714286 ▓░░░░░░░░░░░░░░░░░░░░░░░░                    \n",
      "1986 35.79285714285714285714285714 ▓░░░░░░░░░░░░░░░░░░░░░░░░░░                  \n",
      "1987 49.60000000000000000000000000 ▓░░░░░░░░░░░░░░░░░░░░░░░░░░░░░░░░░░░░        \n",
      "1988 39.26206896551724137931034483 ▓░░░░░░░░░░░░░░░░░░░░░░░░░░░░░               \n",
      "1989 27.48928571428571428571428571 ▓░░░░░░░░░░░░░░░░░░░░                        \n",
      "1990 44.45714285714285714285714286 ▓░░░░░░░░░░░░░░░░░░░░░░░░░░░░░░░░░           \n",
      "1991 51.40357142857142857142857143 ▓░░░░░░░░░░░░░░░░░░░░░░░░░░░░░░░░░░░░░░      \n",
      "1992 48.57241379310344827586206897 ▓░░░░░░░░░░░░░░░░░░░░░░░░░░░░░░░░░░░░        \n",
      "1993 28.90714285714285714285714286 ▓░░░░░░░░░░░░░░░░░░░░░                       \n",
      "1994 33.23214285714285714285714286 ▓░░░░░░░░░░░░░░░░░░░░░░░░                    \n",
      "1995 45.15357142857142857142857143 ▓░░░░░░░░░░░░░░░░░░░░░░░░░░░░░░░░░           \n",
      "1996 43.13448275862068965517241379 ▓░░░░░░░░░░░░░░░░░░░░░░░░░░░░░░░░            \n",
      "1997 38.12500000000000000000000000 ▓░░░░░░░░░░░░░░░░░░░░░░░░░░░░                \n",
      "1998 44.48571428571428571428571429 ▓░░░░░░░░░░░░░░░░░░░░░░░░░░░░░░░░░           \n",
      "1999 48.36071428571428571428571429 ▓░░░░░░░░░░░░░░░░░░░░░░░░░░░░░░░░░░░         \n",
      "2000 49.20000000000000000000000000 ▓░░░░░░░░░░░░░░░░░░░░░░░░░░░░░░░░░░░░        \n",
      "2001 30.05000000000000000000000000 ▓░░░░░░░░░░░░░░░░░░░░░░                      \n",
      "2002 43.16071428571428571428571429 ▓░░░░░░░░░░░░░░░░░░░░░░░░░░░░░░░░            \n",
      "2003 36.14285714285714285714285714 ▓░░░░░░░░░░░░░░░░░░░░░░░░░░░                 \n",
      "2004 35.01034482758620689655172414 ▓░░░░░░░░░░░░░░░░░░░░░░░░░░                  \n",
      "2005 45.07500000000000000000000000 ▓░░░░░░░░░░░░░░░░░░░░░░░░░░░░░░░░░           \n",
      "2006 43.97500000000000000000000000 ▓░░░░░░░░░░░░░░░░░░░░░░░░░░░░░░░░            \n",
      "2007 33.25000000000000000000000000 ▓░░░░░░░░░░░░░░░░░░░░░░░░                    \n",
      "2008 36.51724137931034482758620690 ▓░░░░░░░░░░░░░░░░░░░░░░░░░░░                 \n",
      "2009 44.33214285714285714285714286 ▓░░░░░░░░░░░░░░░░░░░░░░░░░░░░░░░░░           \n",
      "2010 30.27857142857142857142857143 ▓░░░░░░░░░░░░░░░░░░░░░░                      \n",
      "2011 38.66428571428571428571428571 ▓░░░░░░░░░░░░░░░░░░░░░░░░░░░░                \n",
      "2012 41.28275862068965517241379310 ▓░░░░░░░░░░░░░░░░░░░░░░░░░░░░░░              \n",
      "2013 40.65714285714285714285714286 ▓░░░░░░░░░░░░░░░░░░░░░░░░░░░░░░              \n",
      "2014 33.92142857142857142857142857 ▓░░░░░░░░░░░░░░░░░░░░░░░░░                   \n",
      "2015 33.58928571428571428571428571 ▓░░░░░░░░░░░░░░░░░░░░░░░░░                   \n",
      "2016 34.60714285714285714285714286 ▓░░░░░░░░░░░░░░░░░░░░░░░░░                   \n",
      "                                   +----------+----------+----------+----------+\n",
      "                                   0         15         30         45         60\n"
     ]
    }
   ],
   "source": [
    "average_feb_by_year.print_bars('year', 'average', width=80)"
   ]
  },
  {
   "cell_type": "code",
   "execution_count": null,
   "metadata": {
    "collapsed": true
   },
   "outputs": [],
   "source": []
  }
 ],
 "metadata": {
  "kernelspec": {
   "display_name": "Python 2",
   "language": "python",
   "name": "python2"
  },
  "language_info": {
   "codemirror_mode": {
    "name": "ipython",
    "version": 2
   },
   "file_extension": ".py",
   "mimetype": "text/x-python",
   "name": "python",
   "nbconvert_exporter": "python",
   "pygments_lexer": "ipython2",
   "version": "2.7.10"
  }
 },
 "nbformat": 4,
 "nbformat_minor": 0
}
